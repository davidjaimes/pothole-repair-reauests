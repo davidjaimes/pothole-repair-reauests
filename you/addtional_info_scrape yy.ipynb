{
 "cells": [
  {
   "cell_type": "code",
   "execution_count": 1,
   "metadata": {},
   "outputs": [],
   "source": [
    "import pandas as pd\n",
    "import requests\n",
    "from bs4 import BeautifulSoup as bs\n",
    "from config import API_KEY"
   ]
  },
  {
   "cell_type": "code",
   "execution_count": 2,
   "metadata": {},
   "outputs": [
    {
     "data": {
      "text/plain": [
       "'<table border=\"1\" class=\"dataframe\">\\n  <thead>\\n    <tr style=\"text-align: right;\">\\n      <th></th>\\n      <th>0</th>\\n      <th>1</th>\\n    </tr>\\n  </thead>\\n  <tbody>\\n    <tr>\\n      <th>0</th>\\n      <td>License</td>\\n      <td>Open Data Commons Public Domain Dedication and Licence (PDDL)</td>\\n    </tr>\\n    <tr>\\n      <th>1</th>\\n      <td>Publisher</td>\\n      <td>Performance &amp; Analytics</td>\\n    </tr>\\n    <tr>\\n      <th>2</th>\\n      <td>Date Issued (YYYY-MM-DD)</td>\\n      <td>2017-06-13</td>\\n    </tr>\\n    <tr>\\n      <th>3</th>\\n      <td>Date Modified (YYYY-MM-DD)</td>\\n      <td>2020-04-05</td>\\n    </tr>\\n    <tr>\\n      <th>4</th>\\n      <td>Category</td>\\n      <td>City Management</td>\\n    </tr>\\n    <tr>\\n      <th>5</th>\\n      <td>Maintainer</td>\\n      <td>City of San Diego</td>\\n    </tr>\\n    <tr>\\n      <th>6</th>\\n      <td>Maintainer Email</td>\\n      <td>data@sandiego.gov</td>\\n    </tr>\\n  </tbody>\\n</table>'"
      ]
     },
     "execution_count": 2,
     "metadata": {},
     "output_type": "execute_result"
    }
   ],
   "source": [
    "url=\"https://data.sandiego.gov/datasets/gid-pothole/\"\n",
    "\n",
    "response=requests.get(url)\n",
    "soup=bs(response.text,\"html.parser\")\n",
    "table=soup.find_all(\"table\")[1]\n",
    "df=pd.read_html(str(table))[0]\n",
    "df=df.to_html()\n",
    "df"
   ]
  },
  {
   "cell_type": "code",
   "execution_count": 3,
   "metadata": {},
   "outputs": [
    {
     "data": {
      "text/plain": [
       "{'coord': {'lon': -117.16, 'lat': 32.72},\n",
       " 'weather': [{'id': 500,\n",
       "   'main': 'Rain',\n",
       "   'description': 'light rain',\n",
       "   'icon': '10d'}],\n",
       " 'base': 'stations',\n",
       " 'main': {'temp': 59.18,\n",
       "  'feels_like': 47.46,\n",
       "  'temp_min': 50,\n",
       "  'temp_max': 64.4,\n",
       "  'pressure': 1015,\n",
       "  'humidity': 77},\n",
       " 'visibility': 16093,\n",
       " 'wind': {'speed': 21.92, 'deg': 180, 'gust': 27.51},\n",
       " 'rain': {'1h': 0.25},\n",
       " 'clouds': {'all': 75},\n",
       " 'dt': 1586200296,\n",
       " 'sys': {'type': 1,\n",
       "  'id': 5771,\n",
       "  'country': 'US',\n",
       "  'sunrise': 1586179753,\n",
       "  'sunset': 1586225525},\n",
       " 'timezone': -25200,\n",
       " 'id': 5391811,\n",
       " 'name': 'San Diego',\n",
       " 'cod': 200}"
      ]
     },
     "execution_count": 3,
     "metadata": {},
     "output_type": "execute_result"
    }
   ],
   "source": [
    "city =\"san diego\"\n",
    "weather_url=f\"https://api.openweathermap.org/data/2.5/weather?q={city}&appid={API_KEY}&units=imperial\"\n",
    "weather_response=requests.get(weather_url).json()\n",
    "weather_response"
   ]
  },
  {
   "cell_type": "code",
   "execution_count": 4,
   "metadata": {},
   "outputs": [
    {
     "data": {
      "text/plain": [
       "'<div class=\"card--weather\">\\n<i class=\"icon-cloud\"></i>\\n<p class=\"temperature\"><span class=\"degrees\">63</span>°</p>\\n<p><strong>San Diego <br/> Weather</strong></p>\\n</div>'"
      ]
     },
     "execution_count": 4,
     "metadata": {},
     "output_type": "execute_result"
    }
   ],
   "source": [
    "city_url=\"https://www.sandiego.gov/\"\n",
    "city_response=requests.get(city_url)\n",
    "city_soup=bs(city_response.text,\"html.parser\")\n",
    "city_card=str(city_soup.find(\"div\",class_=\"card--weather\"))\n",
    "city_card"
   ]
  },
  {
   "cell_type": "code",
   "execution_count": null,
   "metadata": {},
   "outputs": [],
   "source": []
  }
 ],
 "metadata": {
  "kernelspec": {
   "display_name": "PythonData",
   "language": "python",
   "name": "pythondata"
  },
  "language_info": {
   "codemirror_mode": {
    "name": "ipython",
    "version": 3
   },
   "file_extension": ".py",
   "mimetype": "text/x-python",
   "name": "python",
   "nbconvert_exporter": "python",
   "pygments_lexer": "ipython3",
   "version": "3.6.9"
  }
 },
 "nbformat": 4,
 "nbformat_minor": 2
}
