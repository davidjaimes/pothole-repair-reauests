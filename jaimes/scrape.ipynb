{
 "cells": [
  {
   "cell_type": "code",
   "execution_count": 20,
   "metadata": {},
   "outputs": [],
   "source": [
    "import pandas as pd\n",
    "import requests\n",
    "from bs4 import BeautifulSoup as bs"
   ]
  },
  {
   "cell_type": "code",
   "execution_count": 33,
   "metadata": {},
   "outputs": [
    {
     "data": {
      "text/plain": [
       "{1: {'License': 'Open Data Commons Public Domain Dedication and Licence (PDDL)',\n",
       "  'Publisher': 'Performance & Analytics',\n",
       "  'Date Issued (YYYY-MM-DD)': '2017-06-13',\n",
       "  'Date Modified (YYYY-MM-DD)': '2020-04-03',\n",
       "  'Category': 'City Management',\n",
       "  'Maintainer': 'City of San Diego',\n",
       "  'Maintainer Email': 'data@sandiego.gov'}}"
      ]
     },
     "execution_count": 33,
     "metadata": {},
     "output_type": "execute_result"
    }
   ],
   "source": [
    "url=\"https://data.sandiego.gov/datasets/gid-pothole/\"\n",
    "\n",
    "response=requests.get(url)\n",
    "soup=bs(response.text,\"html.parser\")\n",
    "table=soup.find_all(\"table\")[1]\n",
    "df=pd.read_html(str(table))[0]\n",
    "df = df.set_index(0)\n",
    "df.to_dict()"
   ]
  },
  {
   "cell_type": "code",
   "execution_count": 22,
   "metadata": {},
   "outputs": [
    {
     "data": {
      "text/plain": [
       "'65'"
      ]
     },
     "execution_count": 22,
     "metadata": {},
     "output_type": "execute_result"
    }
   ],
   "source": [
    "city_url=\"https://www.sandiego.gov/\"\n",
    "city_response=requests.get(city_url)\n",
    "city_soup=bs(city_response.text,\"html.parser\")\n",
    "city_soup.find(\"div\",class_=\"card--weather\").p.span.text"
   ]
  },
  {
   "cell_type": "code",
   "execution_count": null,
   "metadata": {},
   "outputs": [],
   "source": []
  }
 ],
 "metadata": {
  "kernelspec": {
   "display_name": "Python 3",
   "language": "python",
   "name": "python3"
  },
  "language_info": {
   "codemirror_mode": {
    "name": "ipython",
    "version": 3
   },
   "file_extension": ".py",
   "mimetype": "text/x-python",
   "name": "python",
   "nbconvert_exporter": "python",
   "pygments_lexer": "ipython3",
   "version": "3.7.6"
  }
 },
 "nbformat": 4,
 "nbformat_minor": 4
}
